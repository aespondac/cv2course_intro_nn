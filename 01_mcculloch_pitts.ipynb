{
 "cells": [
  {
   "cell_type": "markdown",
   "metadata": {},
   "source": [
    "## Esponda Cervantes Alfredo Daniel\n",
    "## 27 de Febrero de 2025\n",
    "## Ejercicio 1"
   ]
  },
  {
   "cell_type": "markdown",
   "metadata": {},
   "source": [
    "# Neurona McCulloch y Pitts\n",
    "\n",
    "(Ejercicio, 3 puntos posibles)\n",
    "\n",
    "El modelo de McCulloch y Pitts, concebido por Warren McCulloch, neurocientífico, y Walter Pitts, lógico matemático, en 1943 [1], representa uno de los fundamentos teóricos de las redes neuronales y la inteligencia artificial. Este modelo es una simplificación abstracta de las neuronas biológicas, propuesta para entender cómo podrían las neuronas del cerebro generar patrones complejos de pensamiento a partir de operaciones simples.\n",
    "\n",
    "[![Open In Colab](https://colab.research.google.com/assets/colab-badge.svg)](https://colab.research.google.com/github/irvingvasquez/cv2course_intro_nn/blob/master/01_mcculloch_pitts.ipynb)\n",
    "\n",
    "[1] McCulloch, W. S., & Pitts, W. (1990). A logical calculus of the ideas immanent in nervous activity. Bulletin of mathematical biology, 52, 99-115."
   ]
  },
  {
   "cell_type": "markdown",
   "metadata": {},
   "source": [
    "Para formalizar el modelo de McCulloch y Pitts, representaremos una neurona con la letra $C$ y definiremos que la entrada de dicha neurona, denominada $input$, está determinada por una tupla $(E,I)$, donde $E$ es el conjunto de señales excitatorias e $I$ es el conjunto de señales inhibitorias. Asimismo, estableceremos como restricciones que tanto la entrada como la salida sean variables binarias, es decir, $input, output \\in {0,1}$. Adicionalmente, definiremos un umbral $u$ que la neurona utiliza para determinar los casos de excitación..\n",
    "\n",
    "Dado lo anterior la salida de $C$ se calcula usando las siguientes reglas:\n",
    "\n",
    "1. En caso de que alguna de las entradas inhibitorias esté activa la neurona no se exita, es decir,\n",
    "    \n",
    "    $C(E,I) = 0$  if  $\\exists \\iota_i=1; \\iota_i \\in I$\\\\\n",
    "\n",
    "2. La neurona se exita si la integral de sus entradas exitatorias es igual o superior al umbral, es decir,\n",
    "    \n",
    "    $C(E,I) = 1$ if $\\sum e_i \\geq u; e \\in I$\\\\\n",
    "    \n",
    "\n",
    "3. En cualquier otro caso la neurona permanece sin exitación."
   ]
  },
  {
   "cell_type": "code",
   "execution_count": 5,
   "metadata": {},
   "outputs": [],
   "source": [
    "#importamos paquetes necesarios\n",
    "import numpy as np"
   ]
  },
  {
   "cell_type": "code",
   "execution_count": 6,
   "metadata": {},
   "outputs": [],
   "source": [
    "# TODO: (2 puntos) Implemente la función del modelo M&P, no use funciones predefinidas de numpy\n",
    "def neuronaMyP(E, I, u):\n",
    "    # Regla 1: Si alguna entrada inhibitoria está activa, la neurona no se excita\n",
    "    if any(i == 1 for i in I):\n",
    "        return 0\n",
    "    \n",
    "    # Regla 2: La neurona se excita si la suma de las entradas excitatorias es mayor o igual al umbral\n",
    "    if sum(E) >= u:\n",
    "        return 1\n",
    "    \n",
    "    # Regla 3: En cualquier otro caso, la neurona no se excita\n",
    "    return 0"
   ]
  },
  {
   "cell_type": "code",
   "execution_count": 7,
   "metadata": {},
   "outputs": [
    {
     "name": "stdout",
     "output_type": "stream",
     "text": [
      "1\n"
     ]
    }
   ],
   "source": [
    "# suponga \n",
    "E = [1]\n",
    "I = [0]\n",
    "u = 1\n",
    "\n",
    "# Calcule la salida de la neurona y verfique si es correcto\n",
    "output = neuronaMyP(E, I, u)\n",
    "print(output)  # Debería imprimir 1"
   ]
  },
  {
   "cell_type": "code",
   "execution_count": null,
   "metadata": {},
   "outputs": [
    {
     "name": "stdout",
     "output_type": "stream",
     "text": [
      "1\n"
     ]
    }
   ],
   "source": [
    "# TODO: (1 punto) Implemente un programa que reciba vectores arbitrarios de E, I y u y devuelva la salida de la neurona.\n",
    "\n",
    "E = [1, 0, 1]\n",
    "I = [0, 0, 0]\n",
    "u = 2\n",
    "\n",
    "# Calcule la salida de la neurona con los nuevos valores\n",
    "output = neuronaMyP(E, I, u)\n",
    "print(output) \n"
   ]
  }
 ],
 "metadata": {
  "kernelspec": {
   "display_name": "Python 3",
   "language": "python",
   "name": "python3"
  },
  "language_info": {
   "codemirror_mode": {
    "name": "ipython",
    "version": 3
   },
   "file_extension": ".py",
   "mimetype": "text/x-python",
   "name": "python",
   "nbconvert_exporter": "python",
   "pygments_lexer": "ipython3",
   "version": "3.11.9"
  }
 },
 "nbformat": 4,
 "nbformat_minor": 4
}
