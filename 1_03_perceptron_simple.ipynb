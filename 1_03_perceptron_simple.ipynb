{
 "cells": [
  {
   "cell_type": "markdown",
   "metadata": {},
   "source": [
    "> [!INFO]  \n",
    "> - Alfredo Daniel Esponda Cervantes\n",
    "> - 03/03/2025\n",
    "> - Programa Perceptrón\n"
   ]
  },
  {
   "attachments": {},
   "cell_type": "markdown",
   "metadata": {},
   "source": [
    "# Perceptrón Simple\n",
    "(Ejercicio, 3 puntos posibles)\n",
    "\n",
    "En este notebook programaremos un perceptron simple utilizando numpy. El objetivo es que comprendamos el funcionamiento del perceptrón y que practiquemos la programación en Python. En la siguiente figura se encuentra una representación del perceptrón.\n",
    "\n",
    "<img src=\"files/simple_nn_notebook.png\">\n",
    "\n",
    "[![Open In Colab](https://colab.research.google.com/assets/colab-badge.svg)](https://colab.research.google.com/github/irvingvasquez/cv2course_intro_nn/blob/master/02_red_neuronal_simple.ipynb)\n",
    "\n",
    "@juan1rving\n"
   ]
  },
  {
   "cell_type": "code",
   "execution_count": 13,
   "metadata": {},
   "outputs": [],
   "source": [
    "# Cargamos paquetes\n",
    "import numpy as np"
   ]
  },
  {
   "attachments": {},
   "cell_type": "markdown",
   "metadata": {},
   "source": [
    "### Calcular producto punto\n",
    "\n",
    "El primer paso es calcular el logit, *h*, a partir del producto punto. La fórmula explícita es la siguiente:\n",
    "\n",
    "$$ h = W X +b $$"
   ]
  },
  {
   "cell_type": "code",
   "execution_count": 14,
   "metadata": {},
   "outputs": [],
   "source": [
    "# TODO: (1 punto) Implementar la función h sin utilizar funciones predefinidas de numpy como numpy.matmul()\n",
    "\n",
    "def combinacion_lineal(W, X, b):\n",
    "    suma = 0\n",
    "    for i in range(len(W)):\n",
    "        suma += W[i] * X[i]\n",
    "    suma += b\n",
    "    return suma"
   ]
  },
  {
   "attachments": {},
   "cell_type": "markdown",
   "metadata": {},
   "source": [
    "### Función de activación\n",
    "\n",
    "Para este ejemplo utilizaremos la función escalón como función de activación.\n",
    "\n",
    "$$ \tf(h) = \\begin{cases}\n",
    "\t\t0 & \\text{if } h < a \\\\\n",
    "\t\t1 & \\text{if } h \\geq a\n",
    "\\end{cases}  $$ "
   ]
  },
  {
   "cell_type": "code",
   "execution_count": 15,
   "metadata": {},
   "outputs": [],
   "source": [
    "# TODO: (1 punto) Completar el código\n",
    "def escalon(h):\n",
    "    if h < 0:\n",
    "        return 0\n",
    "    else:\n",
    "        return 1"
   ]
  },
  {
   "cell_type": "markdown",
   "metadata": {},
   "source": [
    "## Definir perceptrón\n",
    "\n",
    "Perceptrón como una función"
   ]
  },
  {
   "cell_type": "code",
   "execution_count": 16,
   "metadata": {},
   "outputs": [],
   "source": [
    "# Perceptrón simple\n",
    "def perceptron(W, X, b, activacion):\n",
    "    h = combinacion_lineal(W, X, b)\n",
    "    return activacion(h)"
   ]
  },
  {
   "cell_type": "markdown",
   "metadata": {},
   "source": [
    "## Probar inferencia\n",
    "\n",
    "Ahora definamos unos pesos y veamos el resultado de una pasada frontal (fordward pass)."
   ]
  },
  {
   "cell_type": "code",
   "execution_count": 17,
   "metadata": {},
   "outputs": [
    {
     "name": "stdout",
     "output_type": "stream",
     "text": [
      "Output:\n",
      "0\n"
     ]
    }
   ],
   "source": [
    "# Definamos unos pesos y sesgo\n",
    "inputs = np.array([0.7, -0.3])\n",
    "weights = np.array([0.1, 0.8])\n",
    "bias = -0.1\n",
    "\n",
    "# Pasada frontal\n",
    "activacion = escalon #definir la función a usar\n",
    "output = perceptron(weights, inputs, bias, activacion)\n",
    "\n",
    "print('Output:')\n",
    "print(output)\n"
   ]
  },
  {
   "cell_type": "code",
   "execution_count": null,
   "metadata": {},
   "outputs": [
    {
     "name": "stdout",
     "output_type": "stream",
     "text": [
      "Pesos encontrados: [0.35087976 0.76027603]\n",
      "Sesgo encontrado: -0.03264965813138976\n",
      "Salidas obtenidas: [0 1 1 1]\n",
      "Entrada: [0 0], Salida: 0, Esperada: 0\n",
      "Entrada: [0 1], Salida: 1, Esperada: 1\n",
      "Entrada: [1 0], Salida: 1, Esperada: 1\n",
      "Entrada: [1 1], Salida: 1, Esperada: 1\n"
     ]
    }
   ],
   "source": [
    "\n",
    "# TODO (1 punto): Realizar el pase frontal y encuentra por prueba y error los pesos que concuerdan con la función OR\n",
    "\n",
    "# Definición de entradas y salidas esperadas para la función OR\n",
    "entradas = np.array([[0, 0], [0, 1], [1, 0], [1, 1]])\n",
    "salidas_esperadas = np.array([0, 1, 1, 1])\n",
    "\n",
    "#Función para evaluar el perceptrón con los pesos y sesgo dados\n",
    "def evaluar_perceptron(pesos, sesgo):\n",
    "\tsalidas = []\n",
    "\tfor entrada in entradas:\n",
    "\t\tsalida = perceptron(pesos, entrada, sesgo, escalon)\n",
    "\t\tsalidas.append(salida)\n",
    "\treturn np.array(salidas)\n",
    "\n",
    "# Buscar pesos y sesgo que funcionen para la función OR\n",
    "encontrado = False\n",
    "for _ in range(65):\n",
    "\t# Prueba con pesos y sesgo aleatorios\n",
    "\tpesos = np.random.uniform(-1, 1, 2)  \n",
    "\tsesgo = np.random.uniform(-1, 1)     \n",
    "\t\n",
    "\t# Evaluar perceptrón\n",
    "\tsalidas = evaluar_perceptron(pesos, sesgo)\n",
    "\tif np.array_equal(salidas, salidas_esperadas):\n",
    "\t\tencontrado = True\n",
    "\t\tbreak\n",
    "\n",
    "if encontrado:\n",
    "\tprint(\"Pesos encontrados:\", pesos)\n",
    "\tprint(\"Sesgo encontrado:\", sesgo)\n",
    "\tprint(\"Salidas obtenidas:\", salidas)\n",
    "\t\n",
    "\t# Mostrar tabla de verdad\n",
    "\tfor i, entrada in enumerate(entradas):\n",
    "\t\tresultado = perceptron(pesos, entrada, sesgo, escalon)\n",
    "\t\tprint(f\"Entrada: {entrada}, Salida: {resultado}, Esperada: {salidas_esperadas[i]}\")\n",
    "else:\n",
    "\tprint(\"No se encontraron pesos y sesgo que concuerden con la función OR\")\n"
   ]
  }
 ],
 "metadata": {
  "kernelspec": {
   "display_name": "Python 3",
   "language": "python",
   "name": "python3"
  },
  "language_info": {
   "codemirror_mode": {
    "name": "ipython",
    "version": 3
   },
   "file_extension": ".py",
   "mimetype": "text/x-python",
   "name": "python",
   "nbconvert_exporter": "python",
   "pygments_lexer": "ipython3",
   "version": "3.11.9"
  },
  "widgets": {
   "state": {},
   "version": "1.1.2"
  }
 },
 "nbformat": 4,
 "nbformat_minor": 2
}
